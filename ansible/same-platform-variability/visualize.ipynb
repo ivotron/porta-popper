{
 "cells": [
  {
   "cell_type": "code",
   "execution_count": 2,
   "metadata": {
    "collapsed": false
   },
   "outputs": [],
   "source": [
    "%matplotlib inline\n",
    "import pandas as pd\n",
    "import random\n",
    "import matplotlib.pyplot as plt\n",
    "import seaborn as sns"
   ]
  },
  {
   "cell_type": "code",
   "execution_count": 3,
   "metadata": {
    "collapsed": false
   },
   "outputs": [],
   "source": [
    "df = pd.read_csv('all_results.csv')"
   ]
  },
  {
   "cell_type": "code",
   "execution_count": 4,
   "metadata": {
    "collapsed": false
   },
   "outputs": [
    {
     "data": {
      "text/html": [
       "<div>\n",
       "<table border=\"1\" class=\"dataframe\">\n",
       "  <thead>\n",
       "    <tr style=\"text-align: right;\">\n",
       "      <th></th>\n",
       "      <th>machine</th>\n",
       "      <th>limits</th>\n",
       "      <th>benchmark</th>\n",
       "      <th>lower_is_better</th>\n",
       "      <th>repetition</th>\n",
       "      <th>result</th>\n",
       "    </tr>\n",
       "  </thead>\n",
       "  <tbody>\n",
       "    <tr>\n",
       "      <th>0</th>\n",
       "      <td>issdm-0</td>\n",
       "      <td>with_limits</td>\n",
       "      <td>stressng-matrix-add</td>\n",
       "      <td>False</td>\n",
       "      <td>1</td>\n",
       "      <td>46366.692577</td>\n",
       "    </tr>\n",
       "    <tr>\n",
       "      <th>1</th>\n",
       "      <td>issdm-0</td>\n",
       "      <td>with_limits</td>\n",
       "      <td>stressng-matrix-div</td>\n",
       "      <td>False</td>\n",
       "      <td>1</td>\n",
       "      <td>31473.311846</td>\n",
       "    </tr>\n",
       "    <tr>\n",
       "      <th>2</th>\n",
       "      <td>issdm-0</td>\n",
       "      <td>with_limits</td>\n",
       "      <td>stressng-matrix-frobenius</td>\n",
       "      <td>False</td>\n",
       "      <td>1</td>\n",
       "      <td>47968.719911</td>\n",
       "    </tr>\n",
       "    <tr>\n",
       "      <th>3</th>\n",
       "      <td>issdm-0</td>\n",
       "      <td>with_limits</td>\n",
       "      <td>stressng-matrix-mult</td>\n",
       "      <td>False</td>\n",
       "      <td>1</td>\n",
       "      <td>91722.291168</td>\n",
       "    </tr>\n",
       "    <tr>\n",
       "      <th>4</th>\n",
       "      <td>issdm-0</td>\n",
       "      <td>with_limits</td>\n",
       "      <td>stressng-matrix-prod</td>\n",
       "      <td>False</td>\n",
       "      <td>1</td>\n",
       "      <td>396.526948</td>\n",
       "    </tr>\n",
       "  </tbody>\n",
       "</table>\n",
       "</div>"
      ],
      "text/plain": [
       "   machine       limits                  benchmark lower_is_better  \\\n",
       "0  issdm-0  with_limits        stressng-matrix-add           False   \n",
       "1  issdm-0  with_limits        stressng-matrix-div           False   \n",
       "2  issdm-0  with_limits  stressng-matrix-frobenius           False   \n",
       "3  issdm-0  with_limits       stressng-matrix-mult           False   \n",
       "4  issdm-0  with_limits       stressng-matrix-prod           False   \n",
       "\n",
       "   repetition        result  \n",
       "0           1  46366.692577  \n",
       "1           1  31473.311846  \n",
       "2           1  47968.719911  \n",
       "3           1  91722.291168  \n",
       "4           1    396.526948  "
      ]
     },
     "execution_count": 4,
     "metadata": {},
     "output_type": "execute_result"
    }
   ],
   "source": [
    "df.head()"
   ]
  },
  {
   "cell_type": "code",
   "execution_count": 8,
   "metadata": {
    "collapsed": false
   },
   "outputs": [
    {
     "data": {
      "text/plain": [
       "array(['issdm-0', 'issdm-1', 'issdm-11', 'issdm-14', 'issdm-16',\n",
       "       'issdm-17', 'issdm-24', 'issdm-27', 'issdm-29', 'issdm-3',\n",
       "       'issdm-34', 'issdm-40', 'issdm-6'], dtype=object)"
      ]
     },
     "execution_count": 8,
     "metadata": {},
     "output_type": "execute_result"
    }
   ],
   "source": [
    "df['machine'].unique()"
   ]
  },
  {
   "cell_type": "code",
   "execution_count": 6,
   "metadata": {
    "collapsed": false
   },
   "outputs": [
    {
     "data": {
      "text/plain": [
       "array(['stressng-matrix-add', 'stressng-matrix-div',\n",
       "       'stressng-matrix-frobenius', 'stressng-matrix-mult',\n",
       "       'stressng-matrix-prod', 'stressng-matrix-sub',\n",
       "       'stressng-matrix-hadamard', 'stressng-matrix-trans'], dtype=object)"
      ]
     },
     "execution_count": 6,
     "metadata": {},
     "output_type": "execute_result"
    }
   ],
   "source": [
    "df['benchmark'].unique()"
   ]
  },
  {
   "cell_type": "code",
   "execution_count": 28,
   "metadata": {
    "collapsed": true
   },
   "outputs": [],
   "source": [
    "subdf = df[df['benchmark'] == 'stressng-matrix-add']"
   ]
  },
  {
   "cell_type": "code",
   "execution_count": 43,
   "metadata": {
    "collapsed": false
   },
   "outputs": [
    {
     "data": {
      "text/html": [
       "<div>\n",
       "<table border=\"1\" class=\"dataframe\">\n",
       "  <thead>\n",
       "    <tr style=\"text-align: right;\">\n",
       "      <th></th>\n",
       "      <th>machine</th>\n",
       "      <th>limits</th>\n",
       "      <th>benchmark</th>\n",
       "      <th>lower_is_better</th>\n",
       "      <th>repetition</th>\n",
       "      <th>result</th>\n",
       "      <th>result_normalized</th>\n",
       "    </tr>\n",
       "  </thead>\n",
       "  <tbody>\n",
       "    <tr>\n",
       "      <th>0</th>\n",
       "      <td>issdm-0</td>\n",
       "      <td>with_limits</td>\n",
       "      <td>stressng-matrix-add</td>\n",
       "      <td>False</td>\n",
       "      <td>1</td>\n",
       "      <td>46366.692577</td>\n",
       "      <td>-0.365592</td>\n",
       "    </tr>\n",
       "    <tr>\n",
       "      <th>8</th>\n",
       "      <td>issdm-1</td>\n",
       "      <td>with_limits</td>\n",
       "      <td>stressng-matrix-add</td>\n",
       "      <td>False</td>\n",
       "      <td>1</td>\n",
       "      <td>56393.107895</td>\n",
       "      <td>0.448417</td>\n",
       "    </tr>\n",
       "    <tr>\n",
       "      <th>16</th>\n",
       "      <td>issdm-11</td>\n",
       "      <td>with_limits</td>\n",
       "      <td>stressng-matrix-add</td>\n",
       "      <td>False</td>\n",
       "      <td>1</td>\n",
       "      <td>52127.957669</td>\n",
       "      <td>0.102144</td>\n",
       "    </tr>\n",
       "    <tr>\n",
       "      <th>24</th>\n",
       "      <td>issdm-14</td>\n",
       "      <td>with_limits</td>\n",
       "      <td>stressng-matrix-add</td>\n",
       "      <td>False</td>\n",
       "      <td>1</td>\n",
       "      <td>47635.878735</td>\n",
       "      <td>-0.262552</td>\n",
       "    </tr>\n",
       "    <tr>\n",
       "      <th>32</th>\n",
       "      <td>issdm-16</td>\n",
       "      <td>with_limits</td>\n",
       "      <td>stressng-matrix-add</td>\n",
       "      <td>False</td>\n",
       "      <td>1</td>\n",
       "      <td>47426.202080</td>\n",
       "      <td>-0.279574</td>\n",
       "    </tr>\n",
       "    <tr>\n",
       "      <th>40</th>\n",
       "      <td>issdm-17</td>\n",
       "      <td>with_limits</td>\n",
       "      <td>stressng-matrix-add</td>\n",
       "      <td>False</td>\n",
       "      <td>1</td>\n",
       "      <td>51892.723139</td>\n",
       "      <td>0.083047</td>\n",
       "    </tr>\n",
       "    <tr>\n",
       "      <th>48</th>\n",
       "      <td>issdm-24</td>\n",
       "      <td>with_limits</td>\n",
       "      <td>stressng-matrix-add</td>\n",
       "      <td>False</td>\n",
       "      <td>1</td>\n",
       "      <td>46205.820225</td>\n",
       "      <td>-0.378653</td>\n",
       "    </tr>\n",
       "    <tr>\n",
       "      <th>56</th>\n",
       "      <td>issdm-27</td>\n",
       "      <td>with_limits</td>\n",
       "      <td>stressng-matrix-add</td>\n",
       "      <td>False</td>\n",
       "      <td>1</td>\n",
       "      <td>56040.586461</td>\n",
       "      <td>0.419797</td>\n",
       "    </tr>\n",
       "    <tr>\n",
       "      <th>64</th>\n",
       "      <td>issdm-29</td>\n",
       "      <td>with_limits</td>\n",
       "      <td>stressng-matrix-add</td>\n",
       "      <td>False</td>\n",
       "      <td>1</td>\n",
       "      <td>46212.505506</td>\n",
       "      <td>-0.378110</td>\n",
       "    </tr>\n",
       "    <tr>\n",
       "      <th>72</th>\n",
       "      <td>issdm-3</td>\n",
       "      <td>with_limits</td>\n",
       "      <td>stressng-matrix-add</td>\n",
       "      <td>False</td>\n",
       "      <td>1</td>\n",
       "      <td>55131.373799</td>\n",
       "      <td>0.345981</td>\n",
       "    </tr>\n",
       "    <tr>\n",
       "      <th>80</th>\n",
       "      <td>issdm-34</td>\n",
       "      <td>with_limits</td>\n",
       "      <td>stressng-matrix-add</td>\n",
       "      <td>False</td>\n",
       "      <td>1</td>\n",
       "      <td>45739.109742</td>\n",
       "      <td>-0.416543</td>\n",
       "    </tr>\n",
       "    <tr>\n",
       "      <th>88</th>\n",
       "      <td>issdm-40</td>\n",
       "      <td>with_limits</td>\n",
       "      <td>stressng-matrix-add</td>\n",
       "      <td>False</td>\n",
       "      <td>1</td>\n",
       "      <td>58056.437814</td>\n",
       "      <td>0.583457</td>\n",
       "    </tr>\n",
       "    <tr>\n",
       "      <th>96</th>\n",
       "      <td>issdm-6</td>\n",
       "      <td>with_limits</td>\n",
       "      <td>stressng-matrix-add</td>\n",
       "      <td>False</td>\n",
       "      <td>1</td>\n",
       "      <td>52079.160560</td>\n",
       "      <td>0.098183</td>\n",
       "    </tr>\n",
       "    <tr>\n",
       "      <th>104</th>\n",
       "      <td>issdm-0</td>\n",
       "      <td>no_limits</td>\n",
       "      <td>stressng-matrix-add</td>\n",
       "      <td>False</td>\n",
       "      <td>1</td>\n",
       "      <td>103855.207617</td>\n",
       "      <td>0.107555</td>\n",
       "    </tr>\n",
       "    <tr>\n",
       "      <th>112</th>\n",
       "      <td>issdm-1</td>\n",
       "      <td>no_limits</td>\n",
       "      <td>stressng-matrix-add</td>\n",
       "      <td>False</td>\n",
       "      <td>1</td>\n",
       "      <td>104593.473228</td>\n",
       "      <td>0.140492</td>\n",
       "    </tr>\n",
       "    <tr>\n",
       "      <th>120</th>\n",
       "      <td>issdm-11</td>\n",
       "      <td>no_limits</td>\n",
       "      <td>stressng-matrix-add</td>\n",
       "      <td>False</td>\n",
       "      <td>1</td>\n",
       "      <td>106136.438184</td>\n",
       "      <td>0.209331</td>\n",
       "    </tr>\n",
       "    <tr>\n",
       "      <th>128</th>\n",
       "      <td>issdm-14</td>\n",
       "      <td>no_limits</td>\n",
       "      <td>stressng-matrix-add</td>\n",
       "      <td>False</td>\n",
       "      <td>1</td>\n",
       "      <td>93415.577549</td>\n",
       "      <td>-0.358205</td>\n",
       "    </tr>\n",
       "    <tr>\n",
       "      <th>136</th>\n",
       "      <td>issdm-16</td>\n",
       "      <td>no_limits</td>\n",
       "      <td>stressng-matrix-add</td>\n",
       "      <td>False</td>\n",
       "      <td>1</td>\n",
       "      <td>103012.913513</td>\n",
       "      <td>0.069976</td>\n",
       "    </tr>\n",
       "    <tr>\n",
       "      <th>144</th>\n",
       "      <td>issdm-17</td>\n",
       "      <td>no_limits</td>\n",
       "      <td>stressng-matrix-add</td>\n",
       "      <td>False</td>\n",
       "      <td>1</td>\n",
       "      <td>94213.070181</td>\n",
       "      <td>-0.322625</td>\n",
       "    </tr>\n",
       "    <tr>\n",
       "      <th>152</th>\n",
       "      <td>issdm-24</td>\n",
       "      <td>no_limits</td>\n",
       "      <td>stressng-matrix-add</td>\n",
       "      <td>False</td>\n",
       "      <td>1</td>\n",
       "      <td>113200.051466</td>\n",
       "      <td>0.524471</td>\n",
       "    </tr>\n",
       "    <tr>\n",
       "      <th>160</th>\n",
       "      <td>issdm-27</td>\n",
       "      <td>no_limits</td>\n",
       "      <td>stressng-matrix-add</td>\n",
       "      <td>False</td>\n",
       "      <td>1</td>\n",
       "      <td>93073.138034</td>\n",
       "      <td>-0.373483</td>\n",
       "    </tr>\n",
       "    <tr>\n",
       "      <th>168</th>\n",
       "      <td>issdm-29</td>\n",
       "      <td>no_limits</td>\n",
       "      <td>stressng-matrix-add</td>\n",
       "      <td>False</td>\n",
       "      <td>1</td>\n",
       "      <td>90785.870893</td>\n",
       "      <td>-0.475529</td>\n",
       "    </tr>\n",
       "    <tr>\n",
       "      <th>176</th>\n",
       "      <td>issdm-3</td>\n",
       "      <td>no_limits</td>\n",
       "      <td>stressng-matrix-add</td>\n",
       "      <td>False</td>\n",
       "      <td>1</td>\n",
       "      <td>96296.550241</td>\n",
       "      <td>-0.229672</td>\n",
       "    </tr>\n",
       "    <tr>\n",
       "      <th>184</th>\n",
       "      <td>issdm-34</td>\n",
       "      <td>no_limits</td>\n",
       "      <td>stressng-matrix-add</td>\n",
       "      <td>False</td>\n",
       "      <td>1</td>\n",
       "      <td>104293.739823</td>\n",
       "      <td>0.127120</td>\n",
       "    </tr>\n",
       "    <tr>\n",
       "      <th>192</th>\n",
       "      <td>issdm-40</td>\n",
       "      <td>no_limits</td>\n",
       "      <td>stressng-matrix-add</td>\n",
       "      <td>False</td>\n",
       "      <td>1</td>\n",
       "      <td>110997.691061</td>\n",
       "      <td>0.426214</td>\n",
       "    </tr>\n",
       "    <tr>\n",
       "      <th>200</th>\n",
       "      <td>issdm-6</td>\n",
       "      <td>no_limits</td>\n",
       "      <td>stressng-matrix-add</td>\n",
       "      <td>False</td>\n",
       "      <td>1</td>\n",
       "      <td>104904.181970</td>\n",
       "      <td>0.154354</td>\n",
       "    </tr>\n",
       "  </tbody>\n",
       "</table>\n",
       "</div>"
      ],
      "text/plain": [
       "      machine       limits            benchmark lower_is_better  repetition  \\\n",
       "0     issdm-0  with_limits  stressng-matrix-add           False           1   \n",
       "8     issdm-1  with_limits  stressng-matrix-add           False           1   \n",
       "16   issdm-11  with_limits  stressng-matrix-add           False           1   \n",
       "24   issdm-14  with_limits  stressng-matrix-add           False           1   \n",
       "32   issdm-16  with_limits  stressng-matrix-add           False           1   \n",
       "40   issdm-17  with_limits  stressng-matrix-add           False           1   \n",
       "48   issdm-24  with_limits  stressng-matrix-add           False           1   \n",
       "56   issdm-27  with_limits  stressng-matrix-add           False           1   \n",
       "64   issdm-29  with_limits  stressng-matrix-add           False           1   \n",
       "72    issdm-3  with_limits  stressng-matrix-add           False           1   \n",
       "80   issdm-34  with_limits  stressng-matrix-add           False           1   \n",
       "88   issdm-40  with_limits  stressng-matrix-add           False           1   \n",
       "96    issdm-6  with_limits  stressng-matrix-add           False           1   \n",
       "104   issdm-0    no_limits  stressng-matrix-add           False           1   \n",
       "112   issdm-1    no_limits  stressng-matrix-add           False           1   \n",
       "120  issdm-11    no_limits  stressng-matrix-add           False           1   \n",
       "128  issdm-14    no_limits  stressng-matrix-add           False           1   \n",
       "136  issdm-16    no_limits  stressng-matrix-add           False           1   \n",
       "144  issdm-17    no_limits  stressng-matrix-add           False           1   \n",
       "152  issdm-24    no_limits  stressng-matrix-add           False           1   \n",
       "160  issdm-27    no_limits  stressng-matrix-add           False           1   \n",
       "168  issdm-29    no_limits  stressng-matrix-add           False           1   \n",
       "176   issdm-3    no_limits  stressng-matrix-add           False           1   \n",
       "184  issdm-34    no_limits  stressng-matrix-add           False           1   \n",
       "192  issdm-40    no_limits  stressng-matrix-add           False           1   \n",
       "200   issdm-6    no_limits  stressng-matrix-add           False           1   \n",
       "\n",
       "            result  result_normalized  \n",
       "0     46366.692577          -0.365592  \n",
       "8     56393.107895           0.448417  \n",
       "16    52127.957669           0.102144  \n",
       "24    47635.878735          -0.262552  \n",
       "32    47426.202080          -0.279574  \n",
       "40    51892.723139           0.083047  \n",
       "48    46205.820225          -0.378653  \n",
       "56    56040.586461           0.419797  \n",
       "64    46212.505506          -0.378110  \n",
       "72    55131.373799           0.345981  \n",
       "80    45739.109742          -0.416543  \n",
       "88    58056.437814           0.583457  \n",
       "96    52079.160560           0.098183  \n",
       "104  103855.207617           0.107555  \n",
       "112  104593.473228           0.140492  \n",
       "120  106136.438184           0.209331  \n",
       "128   93415.577549          -0.358205  \n",
       "136  103012.913513           0.069976  \n",
       "144   94213.070181          -0.322625  \n",
       "152  113200.051466           0.524471  \n",
       "160   93073.138034          -0.373483  \n",
       "168   90785.870893          -0.475529  \n",
       "176   96296.550241          -0.229672  \n",
       "184  104293.739823           0.127120  \n",
       "192  110997.691061           0.426214  \n",
       "200  104904.181970           0.154354  "
      ]
     },
     "execution_count": 43,
     "metadata": {},
     "output_type": "execute_result"
    }
   ],
   "source": [
    "subdf"
   ]
  },
  {
   "cell_type": "code",
   "execution_count": 44,
   "metadata": {
    "collapsed": false
   },
   "outputs": [
    {
     "name": "stderr",
     "output_type": "stream",
     "text": [
      "/opt/conda/lib/python3.5/site-packages/seaborn/categorical.py:2125: UserWarning: The boxplot API has been changed. Attempting to adjust your arguments for the new API (which might not work). Please update your code. See the version 0.6 release notes for more info.\n",
      "  warnings.warn(msg, UserWarning)\n"
     ]
    },
    {
     "data": {
      "text/plain": [
       "<matplotlib.axes._subplots.AxesSubplot at 0x7fc0bed0f320>"
      ]
     },
     "execution_count": 44,
     "metadata": {},
     "output_type": "execute_result"
    },
    {
     "data": {
      "image/png": "[encoded data removed]",
      "text/plain": [
       "<matplotlib.figure.Figure at 0x7fc0beb6ee80>"
      ]
     },
     "metadata": {},
     "output_type": "display_data"
    }
   ],
   "source": [
    "sns.boxplot(subdf['result'], groupby=subdf['limits'])"
   ]
  },
  {
   "cell_type": "code",
   "execution_count": 34,
   "metadata": {
    "collapsed": false
   },
   "outputs": [
    {
     "name": "stderr",
     "output_type": "stream",
     "text": [
      "/opt/conda/lib/python3.5/site-packages/ipykernel/__main__.py:6: SettingWithCopyWarning: \n",
      "A value is trying to be set on a copy of a slice from a DataFrame.\n",
      "Try using .loc[row_indexer,col_indexer] = value instead\n",
      "\n",
      "See the caveats in the documentation: http://pandas.pydata.org/pandas-docs/stable/indexing.html#indexing-view-versus-copy\n"
     ]
    }
   ],
   "source": [
    "subdf['result_normalized'] = subdf.apply(\n",
    "  lambda x:\n",
    "    (x['result'] - subdf[subdf['limits'] == x['limits']]['result'].mean()) /\n",
    "    (subdf[subdf['limits'] == x['limits']]['result'].max() -\n",
    "     subdf[subdf['limits'] == x['limits']]['result'].min()),\n",
    "  axis=1\n",
    ")\n"
   ]
  },
  {
   "cell_type": "code",
   "execution_count": 41,
   "metadata": {
    "collapsed": false
   },
   "outputs": [
    {
     "name": "stderr",
     "output_type": "stream",
     "text": [
      "/opt/conda/lib/python3.5/site-packages/seaborn/categorical.py:2125: UserWarning: The boxplot API has been changed. Attempting to adjust your arguments for the new API (which might not work). Please update your code. See the version 0.6 release notes for more info.\n",
      "  warnings.warn(msg, UserWarning)\n"
     ]
    },
    {
     "data": {
      "text/plain": [
       "<matplotlib.axes._subplots.AxesSubplot at 0x7fc0bec03be0>"
      ]
     },
     "execution_count": 41,
     "metadata": {},
     "output_type": "execute_result"
    },
    {
     "data": {
      "image/png": "[encoded data removed]",
      "text/plain": [
       "<matplotlib.figure.Figure at 0x7fc0bebe8198>"
      ]
     },
     "metadata": {},
     "output_type": "display_data"
    }
   ],
   "source": [
    "sns.boxplot(subdf['result_normalized'], groupby=subdf['limits'])"
   ]
  }
 ],
 "metadata": {
  "kernelspec": {
   "display_name": "Python 3",
   "language": "python",
   "name": "python3"
  },
  "language_info": {
   "codemirror_mode": {
    "name": "ipython",
    "version": 3
   },
   "file_extension": ".py",
   "mimetype": "text/x-python",
   "name": "python",
   "nbconvert_exporter": "python",
   "pygments_lexer": "ipython3",
   "version": "3.5.1"
  }
 },
 "nbformat": 4,
 "nbformat_minor": 0
}
