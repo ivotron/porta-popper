{
 "cells": [
  {
   "cell_type": "code",
   "execution_count": 1,
   "metadata": {
    "collapsed": false
   },
   "outputs": [],
   "source": [
    "%matplotlib inline\n",
    "import pandas as pd\n",
    "import random\n",
    "import matplotlib.pyplot as plt\n",
    "import numpy as np\n",
    "import seaborn as sns"
   ]
  },
  {
   "cell_type": "code",
   "execution_count": 11,
   "metadata": {
    "collapsed": true
   },
   "outputs": [],
   "source": [
    "nolimits = pd.read_csv('baseline.csv')\n",
    "nolimits['limits'] = False\n",
    "withlimits = pd.read_csv('with_limits.csv')\n",
    "withlimits['limits'] = True\n",
    "df = pd.concat([nolimits, withlimits], ignore_index=True)"
   ]
  },
  {
   "cell_type": "code",
   "execution_count": 13,
   "metadata": {
    "collapsed": false
   },
   "outputs": [
    {
     "data": {
      "text/html": [
       "<div>\n",
       "<table border=\"1\" class=\"dataframe\">\n",
       "  <thead>\n",
       "    <tr style=\"text-align: right;\">\n",
       "      <th></th>\n",
       "      <th>repetition</th>\n",
       "      <th>machine</th>\n",
       "      <th>benchmark</th>\n",
       "      <th>job</th>\n",
       "      <th>read_bw</th>\n",
       "      <th>write_bw</th>\n",
       "      <th>read_iops</th>\n",
       "      <th>write_iops</th>\n",
       "      <th>elapsed</th>\n",
       "      <th>limits</th>\n",
       "    </tr>\n",
       "  </thead>\n",
       "  <tbody>\n",
       "    <tr>\n",
       "      <th>0</th>\n",
       "      <td>5</td>\n",
       "      <td>issdm-47</td>\n",
       "      <td>fio</td>\n",
       "      <td>rw-sdb-4k-seq</td>\n",
       "      <td>2990</td>\n",
       "      <td>2996</td>\n",
       "      <td>747.59</td>\n",
       "      <td>749.16</td>\n",
       "      <td>36</td>\n",
       "      <td>False</td>\n",
       "    </tr>\n",
       "    <tr>\n",
       "      <th>1</th>\n",
       "      <td>5</td>\n",
       "      <td>issdm-14</td>\n",
       "      <td>fio</td>\n",
       "      <td>rw-sdb-4k-seq</td>\n",
       "      <td>2955</td>\n",
       "      <td>2954</td>\n",
       "      <td>738.78</td>\n",
       "      <td>738.51</td>\n",
       "      <td>36</td>\n",
       "      <td>False</td>\n",
       "    </tr>\n",
       "    <tr>\n",
       "      <th>2</th>\n",
       "      <td>5</td>\n",
       "      <td>issdm-38</td>\n",
       "      <td>fio</td>\n",
       "      <td>rw-sdb-4k-seq</td>\n",
       "      <td>2929</td>\n",
       "      <td>2930</td>\n",
       "      <td>732.30</td>\n",
       "      <td>732.64</td>\n",
       "      <td>36</td>\n",
       "      <td>False</td>\n",
       "    </tr>\n",
       "    <tr>\n",
       "      <th>3</th>\n",
       "      <td>5</td>\n",
       "      <td>issdm-20</td>\n",
       "      <td>fio</td>\n",
       "      <td>rw-sdb-4k-seq</td>\n",
       "      <td>3135</td>\n",
       "      <td>3130</td>\n",
       "      <td>783.75</td>\n",
       "      <td>782.58</td>\n",
       "      <td>36</td>\n",
       "      <td>False</td>\n",
       "    </tr>\n",
       "    <tr>\n",
       "      <th>4</th>\n",
       "      <td>5</td>\n",
       "      <td>issdm-27</td>\n",
       "      <td>fio</td>\n",
       "      <td>rw-sdb-4k-seq</td>\n",
       "      <td>2934</td>\n",
       "      <td>2934</td>\n",
       "      <td>733.70</td>\n",
       "      <td>733.64</td>\n",
       "      <td>36</td>\n",
       "      <td>False</td>\n",
       "    </tr>\n",
       "  </tbody>\n",
       "</table>\n",
       "</div>"
      ],
      "text/plain": [
       "   repetition   machine benchmark            job  read_bw  write_bw  \\\n",
       "0           5  issdm-47       fio  rw-sdb-4k-seq     2990      2996   \n",
       "1           5  issdm-14       fio  rw-sdb-4k-seq     2955      2954   \n",
       "2           5  issdm-38       fio  rw-sdb-4k-seq     2929      2930   \n",
       "3           5  issdm-20       fio  rw-sdb-4k-seq     3135      3130   \n",
       "4           5  issdm-27       fio  rw-sdb-4k-seq     2934      2934   \n",
       "\n",
       "   read_iops  write_iops  elapsed limits  \n",
       "0     747.59      749.16       36  False  \n",
       "1     738.78      738.51       36  False  \n",
       "2     732.30      732.64       36  False  \n",
       "3     783.75      782.58       36  False  \n",
       "4     733.70      733.64       36  False  "
      ]
     },
     "execution_count": 13,
     "metadata": {},
     "output_type": "execute_result"
    }
   ],
   "source": [
    "df.head()"
   ]
  },
  {
   "cell_type": "code",
   "execution_count": 21,
   "metadata": {
    "collapsed": false
   },
   "outputs": [
    {
     "data": {
      "text/plain": [
       "15"
      ]
     },
     "execution_count": 21,
     "metadata": {},
     "output_type": "execute_result"
    }
   ],
   "source": [
    "len(df.machine.unique())"
   ]
  },
  {
   "cell_type": "code",
   "execution_count": 19,
   "metadata": {
    "collapsed": false
   },
   "outputs": [
    {
     "data": {
      "text/plain": [
       "limits\n",
       "False    98.847955\n",
       "True     32.235759\n",
       "Name: read_bw, dtype: float64"
      ]
     },
     "execution_count": 19,
     "metadata": {},
     "output_type": "execute_result"
    }
   ],
   "source": [
    "df.groupby('limits')['read_bw'].std()"
   ]
  },
  {
   "cell_type": "code",
   "execution_count": 22,
   "metadata": {
    "collapsed": false
   },
   "outputs": [
    {
     "data": {
      "text/plain": [
       "limits\n",
       "False    97.443585\n",
       "True     29.620136\n",
       "Name: write_bw, dtype: float64"
      ]
     },
     "execution_count": 22,
     "metadata": {},
     "output_type": "execute_result"
    }
   ],
   "source": [
    "df.groupby('limits')['write_bw'].std()"
   ]
  },
  {
   "cell_type": "code",
   "execution_count": 15,
   "metadata": {
    "collapsed": false
   },
   "outputs": [
    {
     "data": {
      "image/png": "[encoded data removed]",
      "text/plain": [
       "<matplotlib.figure.Figure at 0x7ff6501c0b50>"
      ]
     },
     "metadata": {},
     "output_type": "display_data"
    }
   ],
   "source": [
    "ax = sns.boxplot(x='job', y='read_bw', data=df, hue='limits')"
   ]
  },
  {
   "cell_type": "code",
   "execution_count": 16,
   "metadata": {
    "collapsed": false
   },
   "outputs": [
    {
     "data": {
      "image/png": "[encoded data removed]",
      "text/plain": [
       "<matplotlib.figure.Figure at 0x7ff6501c0d90>"
      ]
     },
     "metadata": {},
     "output_type": "display_data"
    }
   ],
   "source": [
    "ax = sns.boxplot(x='job', y='write_bw', data=df, hue='limits')"
   ]
  },
  {
   "cell_type": "markdown",
   "metadata": {},
   "source": [
    "Our results show that we reduce variability, at least by 3x. Let's codify this assertion:"
   ]
  },
  {
   "cell_type": "code",
   "execution_count": 27,
   "metadata": {
    "collapsed": false
   },
   "outputs": [
    {
     "name": "stdout",
     "output_type": "stream",
     "text": [
      "True\n",
      "True\n"
     ]
    }
   ],
   "source": [
    "print((df.query('limits == False')['read_bw'].std() / df.query('limits == True')['read_bw'].std()) >= 3.0)\n",
    "print((df.query('limits == False')['write_bw'].std() / df.query('limits == True')['write_bw'].std()) >= 3.0)\n"
   ]
  }
 ],
 "metadata": {
  "kernelspec": {
   "display_name": "Python 2",
   "language": "python",
   "name": "python2"
  },
  "language_info": {
   "codemirror_mode": {
    "name": "ipython",
    "version": 2
   },
   "file_extension": ".py",
   "mimetype": "text/x-python",
   "name": "python",
   "nbconvert_exporter": "python",
   "pygments_lexer": "ipython2",
   "version": "2.7.12"
  }
 },
 "nbformat": 4,
 "nbformat_minor": 0
}
