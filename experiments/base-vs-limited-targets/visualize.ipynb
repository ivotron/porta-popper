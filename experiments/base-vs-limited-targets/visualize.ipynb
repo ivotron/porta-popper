{
 "cells": [
  {
   "cell_type": "code",
   "execution_count": 1,
   "metadata": {
    "collapsed": false
   },
   "outputs": [
    {
     "name": "stderr",
     "output_type": "stream",
     "text": [
      "/opt/conda/lib/python3.5/site-packages/matplotlib/font_manager.py:273: UserWarning: Matplotlib is building the font cache using fc-list. This may take a moment.\n",
      "  warnings.warn('Matplotlib is building the font cache using fc-list. This may take a moment.')\n",
      "/opt/conda/lib/python3.5/site-packages/matplotlib/font_manager.py:273: UserWarning: Matplotlib is building the font cache using fc-list. This may take a moment.\n",
      "  warnings.warn('Matplotlib is building the font cache using fc-list. This may take a moment.')\n"
     ]
    }
   ],
   "source": [
    "%matplotlib inline\n",
    "import pandas as pd\n",
    "import random\n",
    "import matplotlib.pyplot as plt\n",
    "import numpy as np\n",
    "import seaborn as sns"
   ]
  },
  {
   "cell_type": "code",
   "execution_count": 33,
   "metadata": {
    "collapsed": false
   },
   "outputs": [],
   "source": [
    "df = pd.read_csv('all_results.csv')"
   ]
  },
  {
   "cell_type": "code",
   "execution_count": 3,
   "metadata": {
    "collapsed": false
   },
   "outputs": [
    {
     "data": {
      "text/html": [
       "<div>\n",
       "<table border=\"1\" class=\"dataframe\">\n",
       "  <thead>\n",
       "    <tr style=\"text-align: right;\">\n",
       "      <th></th>\n",
       "      <th>machine</th>\n",
       "      <th>limits</th>\n",
       "      <th>benchmark</th>\n",
       "      <th>lower_is_better</th>\n",
       "      <th>result</th>\n",
       "    </tr>\n",
       "  </thead>\n",
       "  <tbody>\n",
       "    <tr>\n",
       "      <th>0</th>\n",
       "      <td>192.168.140.81</td>\n",
       "      <td>with_limits</td>\n",
       "      <td>crafty</td>\n",
       "      <td>NaN</td>\n",
       "      <td>59.09</td>\n",
       "    </tr>\n",
       "    <tr>\n",
       "      <th>1</th>\n",
       "      <td>192.168.140.81</td>\n",
       "      <td>with_limits</td>\n",
       "      <td>stream-copy</td>\n",
       "      <td>NaN</td>\n",
       "      <td>3943.46</td>\n",
       "    </tr>\n",
       "    <tr>\n",
       "      <th>2</th>\n",
       "      <td>192.168.140.81</td>\n",
       "      <td>with_limits</td>\n",
       "      <td>stream-add</td>\n",
       "      <td>NaN</td>\n",
       "      <td>4111.40</td>\n",
       "    </tr>\n",
       "    <tr>\n",
       "      <th>3</th>\n",
       "      <td>192.168.140.81</td>\n",
       "      <td>with_limits</td>\n",
       "      <td>stream-scale</td>\n",
       "      <td>NaN</td>\n",
       "      <td>3749.34</td>\n",
       "    </tr>\n",
       "    <tr>\n",
       "      <th>4</th>\n",
       "      <td>192.168.140.81</td>\n",
       "      <td>with_limits</td>\n",
       "      <td>stream-triad</td>\n",
       "      <td>NaN</td>\n",
       "      <td>4210.84</td>\n",
       "    </tr>\n",
       "  </tbody>\n",
       "</table>\n",
       "</div>"
      ],
      "text/plain": [
       "          machine       limits     benchmark lower_is_better   result\n",
       "0  192.168.140.81  with_limits        crafty             NaN    59.09\n",
       "1  192.168.140.81  with_limits   stream-copy             NaN  3943.46\n",
       "2  192.168.140.81  with_limits    stream-add             NaN  4111.40\n",
       "3  192.168.140.81  with_limits  stream-scale             NaN  3749.34\n",
       "4  192.168.140.81  with_limits  stream-triad             NaN  4210.84"
      ]
     },
     "execution_count": 3,
     "metadata": {},
     "output_type": "execute_result"
    }
   ],
   "source": [
    "df.head()"
   ]
  },
  {
   "cell_type": "code",
   "execution_count": 4,
   "metadata": {
    "collapsed": false
   },
   "outputs": [
    {
     "data": {
      "text/plain": [
       "array(['192.168.140.81', '192.168.140.85', 'dwill.soe.ucsc.edu',\n",
       "       'nibbler.soe.ucsc.edu', 'issdm-12'], dtype=object)"
      ]
     },
     "execution_count": 4,
     "metadata": {},
     "output_type": "execute_result"
    }
   ],
   "source": [
    "df['machine'].unique()"
   ]
  },
  {
   "cell_type": "code",
   "execution_count": 5,
   "metadata": {
    "collapsed": false
   },
   "outputs": [
    {
     "data": {
      "text/plain": [
       "array(['crafty', 'stream-copy', 'stream-add', 'stream-scale',\n",
       "       'stream-triad', 'c-ray', 'stressng-cpu-ackermann',\n",
       "       'stressng-cpu-bitops', 'stressng-cpu-callfunc',\n",
       "       'stressng-cpu-cdouble', 'stressng-cpu-cfloat',\n",
       "       'stressng-cpu-clongdouble', 'stressng-cpu-correlate',\n",
       "       'stressng-cpu-crc16', 'stressng-cpu-decimal32',\n",
       "       'stressng-cpu-decimal64', 'stressng-cpu-decimal128',\n",
       "       'stressng-cpu-dither', 'stressng-cpu-djb2a', 'stressng-cpu-double',\n",
       "       'stressng-cpu-euler', 'stressng-cpu-explog', 'stressng-cpu-fft',\n",
       "       'stressng-cpu-fibonacci', 'stressng-cpu-float',\n",
       "       'stressng-cpu-fnv1a', 'stressng-cpu-gamma', 'stressng-cpu-gcd',\n",
       "       'stressng-cpu-gray', 'stressng-cpu-hamming', 'stressng-cpu-hanoi',\n",
       "       'stressng-cpu-hyperbolic', 'stressng-cpu-idct',\n",
       "       'stressng-cpu-int128', 'stressng-cpu-int64', 'stressng-cpu-int32',\n",
       "       'stressng-cpu-int16', 'stressng-cpu-int8',\n",
       "       'stressng-cpu-int128float', 'stressng-cpu-int128double',\n",
       "       'stressng-cpu-int128longdouble', 'stressng-cpu-int128decimal32',\n",
       "       'stressng-cpu-int128decimal64', 'stressng-cpu-int128decimal128',\n",
       "       'stressng-cpu-int64float', 'stressng-cpu-int64double',\n",
       "       'stressng-cpu-int64longdouble', 'stressng-cpu-int32float',\n",
       "       'stressng-cpu-int32double', 'stressng-cpu-int32longdouble',\n",
       "       'stressng-cpu-jenkin', 'stressng-cpu-jmp', 'stressng-cpu-ln2',\n",
       "       'stressng-cpu-longdouble', 'stressng-cpu-loop',\n",
       "       'stressng-cpu-matrixprod', 'stressng-cpu-nsqrt',\n",
       "       'stressng-cpu-omega', 'stressng-cpu-parity', 'stressng-cpu-phi',\n",
       "       'stressng-cpu-pi', 'stressng-cpu-pjw', 'stressng-cpu-prime',\n",
       "       'stressng-cpu-psi', 'stressng-cpu-queens', 'stressng-cpu-rand',\n",
       "       'stressng-cpu-rand48', 'stressng-cpu-rgb', 'stressng-cpu-sdbm',\n",
       "       'stressng-cpu-sieve', 'stressng-cpu-sqrt', 'stressng-cpu-trig',\n",
       "       'stressng-cpu-union', 'stressng-cpu-zeta', 'stressng-cpu-af-alg',\n",
       "       'stressng-cpu-atomic', 'stressng-cpu-bsearch', 'stressng-cpu-cpu',\n",
       "       'stressng-cpu-crypt', 'stressng-cpu-hsearch',\n",
       "       'stressng-cpu-longjmp', 'stressng-cpu-lsearch', 'stressng-cpu-numa',\n",
       "       'stressng-cpu-opcode', 'stressng-cpu-qsort', 'stressng-cpu-str',\n",
       "       'stressng-cpu-stream', 'stressng-cpu-tsearch',\n",
       "       'stressng-cpu-vecmath', 'stressng-cpu-wcs',\n",
       "       'stressng-cpu-cache-cache', 'stressng-cpu-cache-icache',\n",
       "       'stressng-memory-atomic', 'stressng-memory-context',\n",
       "       'stressng-memory-full', 'stressng-memory-lockbus',\n",
       "       'stressng-memory-malloc', 'stressng-memory-matrix',\n",
       "       'stressng-memory-memcpy', 'stressng-memory-memfd',\n",
       "       'stressng-memory-mincore', 'stressng-memory-null',\n",
       "       'stressng-memory-pipe', 'stressng-memory-remap',\n",
       "       'stressng-memory-stack', 'stressng-memory-stackmmap',\n",
       "       'stressng-memory-str', 'stressng-memory-tlb-shootdown',\n",
       "       'stressng-memory-vm', 'stressng-memory-vm-rw',\n",
       "       'stressng-memory-zero', 'stressng-matrix-add',\n",
       "       'stressng-matrix-div', 'stressng-matrix-frobenius',\n",
       "       'stressng-matrix-mult', 'stressng-matrix-prod',\n",
       "       'stressng-matrix-sub', 'stressng-matrix-hadamard',\n",
       "       'stressng-matrix-trans', 'stressng-string-index',\n",
       "       'stressng-string-rindex', 'stressng-string-strcasecmp',\n",
       "       'stressng-string-strcat', 'stressng-string-strchr',\n",
       "       'stressng-string-strcoll', 'stressng-string-strcmp',\n",
       "       'stressng-string-strcpy', 'stressng-string-strlen',\n",
       "       'stressng-string-strncasecmp', 'stressng-string-strncat',\n",
       "       'stressng-string-strncmp', 'stressng-string-strrchr',\n",
       "       'stressng-string-strxfrm', 'stressng-cpu-rdrand',\n",
       "       'stressng-cpu-tsc', 'stressng-memory-oom-pipe'], dtype=object)"
      ]
     },
     "execution_count": 5,
     "metadata": {},
     "output_type": "execute_result"
    }
   ],
   "source": [
    "df['benchmark'].unique()"
   ]
  },
  {
   "cell_type": "code",
   "execution_count": 18,
   "metadata": {
    "collapsed": false
   },
   "outputs": [
    {
     "data": {
      "text/plain": [
       "array(['with_limits', 'no_limits'], dtype=object)"
      ]
     },
     "execution_count": 18,
     "metadata": {},
     "output_type": "execute_result"
    }
   ],
   "source": [
    "df['limits'].unique()"
   ]
  },
  {
   "cell_type": "code",
   "execution_count": 34,
   "metadata": {
    "collapsed": true
   },
   "outputs": [],
   "source": [
    "df.fillna(True, inplace=True)"
   ]
  },
  {
   "cell_type": "code",
   "execution_count": 35,
   "metadata": {
    "collapsed": true
   },
   "outputs": [],
   "source": [
    "%run normalize.py"
   ]
  },
  {
   "cell_type": "code",
   "execution_count": 36,
   "metadata": {
    "collapsed": false
   },
   "outputs": [],
   "source": [
    "df = obtain_speedup(df, 'issdm-12')"
   ]
  },
  {
   "cell_type": "code",
   "execution_count": 49,
   "metadata": {
    "collapsed": false
   },
   "outputs": [
    {
     "data": {
      "text/html": [
       "<div>\n",
       "<table border=\"1\" class=\"dataframe\">\n",
       "  <thead>\n",
       "    <tr style=\"text-align: right;\">\n",
       "      <th></th>\n",
       "      <th>benchmark</th>\n",
       "      <th>base_result</th>\n",
       "      <th>machine</th>\n",
       "      <th>limits</th>\n",
       "      <th>lower_is_better</th>\n",
       "      <th>result</th>\n",
       "      <th>speedup</th>\n",
       "    </tr>\n",
       "  </thead>\n",
       "  <tbody>\n",
       "    <tr>\n",
       "      <th>0</th>\n",
       "      <td>crafty</td>\n",
       "      <td>74.23</td>\n",
       "      <td>192.168.140.81</td>\n",
       "      <td>with_limits</td>\n",
       "      <td>True</td>\n",
       "      <td>59.09</td>\n",
       "      <td>1.256219</td>\n",
       "    </tr>\n",
       "    <tr>\n",
       "      <th>1</th>\n",
       "      <td>crafty</td>\n",
       "      <td>74.23</td>\n",
       "      <td>192.168.140.81</td>\n",
       "      <td>with_limits</td>\n",
       "      <td>True</td>\n",
       "      <td>60.79</td>\n",
       "      <td>1.221089</td>\n",
       "    </tr>\n",
       "    <tr>\n",
       "      <th>2</th>\n",
       "      <td>crafty</td>\n",
       "      <td>74.23</td>\n",
       "      <td>192.168.140.81</td>\n",
       "      <td>with_limits</td>\n",
       "      <td>True</td>\n",
       "      <td>59.25</td>\n",
       "      <td>1.252827</td>\n",
       "    </tr>\n",
       "    <tr>\n",
       "      <th>3</th>\n",
       "      <td>crafty</td>\n",
       "      <td>74.23</td>\n",
       "      <td>192.168.140.85</td>\n",
       "      <td>with_limits</td>\n",
       "      <td>True</td>\n",
       "      <td>66.64</td>\n",
       "      <td>1.113896</td>\n",
       "    </tr>\n",
       "    <tr>\n",
       "      <th>4</th>\n",
       "      <td>crafty</td>\n",
       "      <td>74.23</td>\n",
       "      <td>192.168.140.85</td>\n",
       "      <td>with_limits</td>\n",
       "      <td>True</td>\n",
       "      <td>67.10</td>\n",
       "      <td>1.106259</td>\n",
       "    </tr>\n",
       "  </tbody>\n",
       "</table>\n",
       "</div>"
      ],
      "text/plain": [
       "  benchmark  base_result         machine       limits lower_is_better  result  \\\n",
       "0    crafty        74.23  192.168.140.81  with_limits            True   59.09   \n",
       "1    crafty        74.23  192.168.140.81  with_limits            True   60.79   \n",
       "2    crafty        74.23  192.168.140.81  with_limits            True   59.25   \n",
       "3    crafty        74.23  192.168.140.85  with_limits            True   66.64   \n",
       "4    crafty        74.23  192.168.140.85  with_limits            True   67.10   \n",
       "\n",
       "    speedup  \n",
       "0  1.256219  \n",
       "1  1.221089  \n",
       "2  1.252827  \n",
       "3  1.113896  \n",
       "4  1.106259  "
      ]
     },
     "execution_count": 49,
     "metadata": {},
     "output_type": "execute_result"
    }
   ],
   "source": [
    "df.head()"
   ]
  },
  {
   "cell_type": "code",
   "execution_count": 71,
   "metadata": {
    "collapsed": true
   },
   "outputs": [],
   "source": [
    "machine = '192.168.140.81'\n",
    "subdf = df[df[\"machine\"] == machine]"
   ]
  },
  {
   "cell_type": "code",
   "execution_count": 72,
   "metadata": {
    "collapsed": false
   },
   "outputs": [
    {
     "name": "stderr",
     "output_type": "stream",
     "text": [
      "/opt/conda/lib/python3.5/site-packages/seaborn/categorical.py:2125: UserWarning: The boxplot API has been changed. Attempting to adjust your arguments for the new API (which might not work). Please update your code. See the version 0.6 release notes for more info.\n",
      "  warnings.warn(msg, UserWarning)\n"
     ]
    },
    {
     "data": {
      "text/plain": [
       "<matplotlib.axes._subplots.AxesSubplot at 0x7faa618e4358>"
      ]
     },
     "execution_count": 72,
     "metadata": {},
     "output_type": "execute_result"
    },
    {
     "data": {
      "image/png": "[encoded data removed]",
      "text/plain": [
       "<matplotlib.figure.Figure at 0x7faa618ee358>"
      ]
     },
     "metadata": {},
     "output_type": "display_data"
    }
   ],
   "source": [
    "sns.boxplot(subdf.speedup, groupby=subdf.limits)"
   ]
  },
  {
   "cell_type": "markdown",
   "metadata": {},
   "source": [
    "The above might look like it shows that with limits we get lower/higher variability, but we need to normalize speedups w.r.t. the max/min values of each 'limits' group, otherwise this is an optical illusion"
   ]
  },
  {
   "cell_type": "code",
   "execution_count": 73,
   "metadata": {
    "collapsed": false
   },
   "outputs": [
    {
     "name": "stderr",
     "output_type": "stream",
     "text": [
      "/opt/conda/lib/python3.5/site-packages/ipykernel/__main__.py:7: SettingWithCopyWarning: \n",
      "A value is trying to be set on a copy of a slice from a DataFrame.\n",
      "Try using .loc[row_indexer,col_indexer] = value instead\n",
      "\n",
      "See the caveats in the documentation: http://pandas.pydata.org/pandas-docs/stable/indexing.html#indexing-view-versus-copy\n"
     ]
    }
   ],
   "source": [
    "\n",
    "subdf['speedup_normalized'] = subdf.apply(\n",
    "  lambda x:\n",
    "    (x['result'] - subdf[subdf['limits'] == x['limits']]['speedup'].mean()) /\n",
    "    (subdf[subdf['limits'] == x['limits']]['speedup'].max() -\n",
    "     subdf[subdf['limits'] == x['limits']]['speedup'].min()),\n",
    "  axis=1\n",
    ")\n"
   ]
  },
  {
   "cell_type": "code",
   "execution_count": 77,
   "metadata": {
    "collapsed": false
   },
   "outputs": [
    {
     "data": {
      "text/html": [
       "<div>\n",
       "<table border=\"1\" class=\"dataframe\">\n",
       "  <thead>\n",
       "    <tr style=\"text-align: right;\">\n",
       "      <th></th>\n",
       "      <th>benchmark</th>\n",
       "      <th>base_result</th>\n",
       "      <th>machine</th>\n",
       "      <th>limits</th>\n",
       "      <th>lower_is_better</th>\n",
       "      <th>result</th>\n",
       "      <th>speedup</th>\n",
       "      <th>speedup_normalized</th>\n",
       "    </tr>\n",
       "  </thead>\n",
       "  <tbody>\n",
       "    <tr>\n",
       "      <th>0</th>\n",
       "      <td>crafty</td>\n",
       "      <td>74.23</td>\n",
       "      <td>192.168.140.81</td>\n",
       "      <td>with_limits</td>\n",
       "      <td>True</td>\n",
       "      <td>59.09</td>\n",
       "      <td>1.256219</td>\n",
       "      <td>0.107382</td>\n",
       "    </tr>\n",
       "    <tr>\n",
       "      <th>1</th>\n",
       "      <td>crafty</td>\n",
       "      <td>74.23</td>\n",
       "      <td>192.168.140.81</td>\n",
       "      <td>with_limits</td>\n",
       "      <td>True</td>\n",
       "      <td>60.79</td>\n",
       "      <td>1.221089</td>\n",
       "      <td>0.110778</td>\n",
       "    </tr>\n",
       "    <tr>\n",
       "      <th>2</th>\n",
       "      <td>crafty</td>\n",
       "      <td>74.23</td>\n",
       "      <td>192.168.140.81</td>\n",
       "      <td>with_limits</td>\n",
       "      <td>True</td>\n",
       "      <td>59.25</td>\n",
       "      <td>1.252827</td>\n",
       "      <td>0.107702</td>\n",
       "    </tr>\n",
       "    <tr>\n",
       "      <th>12</th>\n",
       "      <td>crafty</td>\n",
       "      <td>74.23</td>\n",
       "      <td>192.168.140.81</td>\n",
       "      <td>no_limits</td>\n",
       "      <td>True</td>\n",
       "      <td>26.26</td>\n",
       "      <td>2.826733</td>\n",
       "      <td>0.104758</td>\n",
       "    </tr>\n",
       "    <tr>\n",
       "      <th>17</th>\n",
       "      <td>stream-copy</td>\n",
       "      <td>2781.70</td>\n",
       "      <td>192.168.140.81</td>\n",
       "      <td>with_limits</td>\n",
       "      <td>True</td>\n",
       "      <td>3943.46</td>\n",
       "      <td>1.417644</td>\n",
       "      <td>7.866462</td>\n",
       "    </tr>\n",
       "  </tbody>\n",
       "</table>\n",
       "</div>"
      ],
      "text/plain": [
       "      benchmark  base_result         machine       limits lower_is_better  \\\n",
       "0        crafty        74.23  192.168.140.81  with_limits            True   \n",
       "1        crafty        74.23  192.168.140.81  with_limits            True   \n",
       "2        crafty        74.23  192.168.140.81  with_limits            True   \n",
       "12       crafty        74.23  192.168.140.81    no_limits            True   \n",
       "17  stream-copy      2781.70  192.168.140.81  with_limits            True   \n",
       "\n",
       "     result   speedup  speedup_normalized  \n",
       "0     59.09  1.256219            0.107382  \n",
       "1     60.79  1.221089            0.110778  \n",
       "2     59.25  1.252827            0.107702  \n",
       "12    26.26  2.826733            0.104758  \n",
       "17  3943.46  1.417644            7.866462  "
      ]
     },
     "execution_count": 77,
     "metadata": {},
     "output_type": "execute_result"
    }
   ],
   "source": [
    "subdf.head()"
   ]
  },
  {
   "cell_type": "code",
   "execution_count": 75,
   "metadata": {
    "collapsed": false
   },
   "outputs": [
    {
     "name": "stderr",
     "output_type": "stream",
     "text": [
      "/opt/conda/lib/python3.5/site-packages/seaborn/categorical.py:2125: UserWarning: The boxplot API has been changed. Attempting to adjust your arguments for the new API (which might not work). Please update your code. See the version 0.6 release notes for more info.\n",
      "  warnings.warn(msg, UserWarning)\n"
     ]
    },
    {
     "data": {
      "text/plain": [
       "<matplotlib.axes._subplots.AxesSubplot at 0x7faa617fbe48>"
      ]
     },
     "execution_count": 75,
     "metadata": {},
     "output_type": "execute_result"
    },
    {
     "data": {
      "image/png": "[encoded data removed]",
      "text/plain": [
       "<matplotlib.figure.Figure at 0x7faa61754860>"
      ]
     },
     "metadata": {},
     "output_type": "display_data"
    }
   ],
   "source": [
    "sns.boxplot(subdf.speedup_normalized, groupby=subdf.limits)"
   ]
  },
  {
   "cell_type": "code",
   "execution_count": 76,
   "metadata": {
    "collapsed": false
   },
   "outputs": [
    {
     "data": {
      "text/html": [
       "<div>\n",
       "<table border=\"1\" class=\"dataframe\">\n",
       "  <thead>\n",
       "    <tr style=\"text-align: right;\">\n",
       "      <th></th>\n",
       "      <th>benchmark</th>\n",
       "      <th>base_result</th>\n",
       "      <th>machine</th>\n",
       "      <th>limits</th>\n",
       "      <th>lower_is_better</th>\n",
       "      <th>result</th>\n",
       "      <th>speedup</th>\n",
       "      <th>speedup_normalized</th>\n",
       "    </tr>\n",
       "  </thead>\n",
       "  <tbody>\n",
       "    <tr>\n",
       "      <th>1671</th>\n",
       "      <td>stressng-memory-memfd</td>\n",
       "      <td>1343.897469</td>\n",
       "      <td>192.168.140.81</td>\n",
       "      <td>with_limits</td>\n",
       "      <td>False</td>\n",
       "      <td>2.886764</td>\n",
       "      <td>465.537699</td>\n",
       "      <td>-0.004885</td>\n",
       "    </tr>\n",
       "    <tr>\n",
       "      <th>1672</th>\n",
       "      <td>stressng-memory-memfd</td>\n",
       "      <td>1343.897469</td>\n",
       "      <td>192.168.140.81</td>\n",
       "      <td>with_limits</td>\n",
       "      <td>False</td>\n",
       "      <td>2.681308</td>\n",
       "      <td>501.209659</td>\n",
       "      <td>-0.005295</td>\n",
       "    </tr>\n",
       "    <tr>\n",
       "      <th>1673</th>\n",
       "      <td>stressng-memory-memfd</td>\n",
       "      <td>1343.897469</td>\n",
       "      <td>192.168.140.81</td>\n",
       "      <td>with_limits</td>\n",
       "      <td>False</td>\n",
       "      <td>2.679100</td>\n",
       "      <td>501.622735</td>\n",
       "      <td>-0.005300</td>\n",
       "    </tr>\n",
       "    <tr>\n",
       "      <th>1683</th>\n",
       "      <td>stressng-memory-memfd</td>\n",
       "      <td>1343.897469</td>\n",
       "      <td>192.168.140.81</td>\n",
       "      <td>no_limits</td>\n",
       "      <td>False</td>\n",
       "      <td>6.192943</td>\n",
       "      <td>217.004657</td>\n",
       "      <td>0.011856</td>\n",
       "    </tr>\n",
       "  </tbody>\n",
       "</table>\n",
       "</div>"
      ],
      "text/plain": [
       "                  benchmark  base_result         machine       limits  \\\n",
       "1671  stressng-memory-memfd  1343.897469  192.168.140.81  with_limits   \n",
       "1672  stressng-memory-memfd  1343.897469  192.168.140.81  with_limits   \n",
       "1673  stressng-memory-memfd  1343.897469  192.168.140.81  with_limits   \n",
       "1683  stressng-memory-memfd  1343.897469  192.168.140.81    no_limits   \n",
       "\n",
       "     lower_is_better    result     speedup  speedup_normalized  \n",
       "1671           False  2.886764  465.537699           -0.004885  \n",
       "1672           False  2.681308  501.209659           -0.005295  \n",
       "1673           False  2.679100  501.622735           -0.005300  \n",
       "1683           False  6.192943  217.004657            0.011856  "
      ]
     },
     "execution_count": 76,
     "metadata": {},
     "output_type": "execute_result"
    }
   ],
   "source": [
    "subdf[subdf['speedup'] > 25]"
   ]
  },
  {
   "cell_type": "code",
   "execution_count": null,
   "metadata": {
    "collapsed": true
   },
   "outputs": [],
   "source": []
  }
 ],
 "metadata": {
  "kernelspec": {
   "display_name": "Python 3",
   "language": "python",
   "name": "python3"
  },
  "language_info": {
   "codemirror_mode": {
    "name": "ipython",
    "version": 3
   },
   "file_extension": ".py",
   "mimetype": "text/x-python",
   "name": "python",
   "nbconvert_exporter": "python",
   "pygments_lexer": "ipython3",
   "version": "3.5.1"
  }
 },
 "nbformat": 4,
 "nbformat_minor": 0
}
